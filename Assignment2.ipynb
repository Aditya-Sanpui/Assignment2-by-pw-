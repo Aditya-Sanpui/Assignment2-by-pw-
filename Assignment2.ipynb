{
 "cells": [
  {
   "cell_type": "markdown",
   "id": "21bad258-c2b4-458c-bf9b-2c1c7f9cbc88",
   "metadata": {},
   "source": [
    "Q1::   Single-line comments: To add a single-line comment, you can use the hash symbol (#) followed by the comment text. Everything after the hash symbol on the same line is considered a comment.\n",
    " # This is a single-line comment\n",
    " Multi-line comments: For multi-line comments, you can enclose the comment text within triple quotes, either single (''') or double quotes (\"\"\"). This allows you to add comments that span across multiple lines.\n",
    " \"\"\"\n",
    "This is a\n",
    "multi-line comment\n",
    "\"\"\""
   ]
  },
  {
   "cell_type": "markdown",
   "id": "8a620ece-ab97-495c-bc31-6e79324ff1f1",
   "metadata": {},
   "source": [
    "Q2::\n",
    "    In python ,variables are used to store and manipulate data. A variable is a name that represents  value in the memory of a computer its assign diferent types of values ,such as number ,strings ,lists ,or objects ,to variables\n",
    "\n",
    "to declare and assign a value to a variable in python ,we  can use   the following syntax :\n",
    "variable_name = value \n"
   ]
  },
  {
   "cell_type": "markdown",
   "id": "5275d790-2dd3-4999-9fd5-744cf9fd90b3",
   "metadata": {},
   "source": [
    "Q3\n",
    "In python ,we can convert one data type to another data type conversion functions or methods .here are some commonly used methods for type conversion :\n",
    "1. int() ;  Converts a value to an  integer data type \n",
    "code:# Converting a string to an integer\n",
    "num_str = \"10\"\n",
    "num_int = int(num_str)\n",
    "print(num_int)  # Output: 10\n",
    "2. float() ; convertiing an integer to a floating -point data type :\n",
    "# Converting an integer to a float\n",
    "num_int = 5\n",
    "num_float = float(num_int)\n",
    "print(num_float)  # Output: 5.0\n",
    "\n",
    "3. str() ; Converts a value to string data type .\n",
    "# Converting an integer to a string\n",
    "num_int = 10\n",
    "num_str = str(num_int)\n",
    "print(num_str)  # Output: \"10\"\n",
    " \n",
    " \n",
    "This are just few examples of type conversion in python .Depending on your specific needs .there are aditional functions and methods available for converting between diferent  data types "
   ]
  },
  {
   "cell_type": "markdown",
   "id": "d16e45e5-34cb-4fec-8ada-0b17581b2286",
   "metadata": {},
   "source": [
    "Q4\n",
    "To write and execute a python script from the comand line ,you can  follow these steps :\n",
    "1. Open a text editor and create a new file.For example ,you can use a text editor like node pad ,Sublime Text ,or visual studio code .\n",
    "2.write a python code in the text file and save it with a '.py ' extention .For example ,we  can save the file as 'my_script.py '.Here's an example of a simple python script thats prints \"Hello world!\":\n",
    "print(\"hello world!\")\n"
   ]
  },
  {
   "cell_type": "code",
   "execution_count": 1,
   "id": "8889161e-b46f-4b45-836f-0bc3787f34cb",
   "metadata": {},
   "outputs": [
    {
     "name": "stdout",
     "output_type": "stream",
     "text": [
      "[2, 3]\n"
     ]
    }
   ],
   "source": [
    "# Q5\n",
    "my_list = [1, 2, 3, 4, 5]\n",
    "sub_list = my_list[1:3]\n",
    "print(sub_list)"
   ]
  },
  {
   "cell_type": "markdown",
   "id": "6fc5e23a-dc5f-41f0-affc-4fe93923f92d",
   "metadata": {},
   "source": [
    "Q6\n",
    "In mathematics ,a complex number that comprises both  a real part and an imaginary  part .It is represented in the form 'a+ bi',where 'a' is the real part ,'b' is the imaginary part and 'i ' is the imaginary unit.\n",
    "In python ,complex numbers are also supported as a built-in data type .They can be represented using the following format \n",
    "a+bj\n"
   ]
  },
  {
   "cell_type": "markdown",
   "id": "ead80ebf-9029-45cc-8c86-78b16c17ba25",
   "metadata": {},
   "source": [
    "Q7\n",
    "The correct way to declare a variable named 'age' and assign the value '25' to it in python is as follows:\n",
    "age = 25\n",
    "In this code, 'age' is the variable name, and '25' is the value assigned to it. The '= 'operator is used to perform the assignment. It assigns the value on the right side of the operator ('25') to the variable on the left side ('age').\n",
    "\n",
    "After executing this code, the variable 'age' will hold the value '25', which can be used later in your program. For example, you can print the value of' age 'using the' print()' function:\n",
    "print(age) # Output : 25\n",
    "\n",
    " "
   ]
  },
  {
   "cell_type": "code",
   "execution_count": null,
   "id": "e03018f9-9be8-404e-8e40-dce9d8dce6a6",
   "metadata": {},
   "outputs": [],
   "source": [
    "# Q8\n",
    "price = 9.99\n",
    "print(type(price)) #output: <class 'float>\n",
    "#The output ',<class 'float'>' confirms that the' price' variable belongs to the float data type ."
   ]
  },
  {
   "cell_type": "code",
   "execution_count": 2,
   "id": "047ac728-9829-466a-ba2e-b22424634e47",
   "metadata": {},
   "outputs": [
    {
     "name": "stdout",
     "output_type": "stream",
     "text": [
      "Aditya Sanpui\n"
     ]
    }
   ],
   "source": [
    "# Q9\n",
    "''' To create a variable named 'name ' and assign my fullname to it as a string ,i  can follow these steps :'''\n",
    "name = \"Aditya Sanpui\"\n",
    "\"\"\" To print the value of the 'name' variable ,i can use the 'print()' function and pass the variable as an argument:\"\"\"\n",
    "print(name)"
   ]
  },
  {
   "cell_type": "code",
   "execution_count": 5,
   "id": "0224fcba-6ec4-45e4-9c8f-cac51bb458a8",
   "metadata": {},
   "outputs": [
    {
     "name": "stdout",
     "output_type": "stream",
     "text": [
      "world!\n"
     ]
    }
   ],
   "source": [
    "#Q10\n",
    "\"\"\" TO exatract the substring \"World\" from the string 'Hello ,world!' ,\n",
    "i can use string slicing in python .Here's the code to accomplish that :\"\"\"\n",
    "my_string = \"Hello,world!\"\n",
    "substring = my_string[6:12]\n",
    "print(substring)"
   ]
  },
  {
   "cell_type": "code",
   "execution_count": 6,
   "id": "6a8eb35c-b9ee-4954-9fe8-f25f56485bd9",
   "metadata": {},
   "outputs": [],
   "source": [
    "#Q11\n",
    "\"\"\" To create a variable named 'is_student' and assign it  a boolean value indicating whether \n",
    "i am currently a student or not ,i can use the following code :\"\"\"\n",
    "is_student = True\n",
    "\"\"\" In this code ,the variable 'is_student' is assigned the boolean value 'True'.\n",
    "This imples that i am currently a student ,i can assign the value 'False' instead:\"\"\"\n",
    "is_student = False\n"
   ]
  },
  {
   "cell_type": "code",
   "execution_count": null,
   "id": "3340171d-8f11-4401-b76b-efec2ef6fe4c",
   "metadata": {},
   "outputs": [],
   "source": []
  }
 ],
 "metadata": {
  "kernelspec": {
   "display_name": "Python 3 (ipykernel)",
   "language": "python",
   "name": "python3"
  },
  "language_info": {
   "codemirror_mode": {
    "name": "ipython",
    "version": 3
   },
   "file_extension": ".py",
   "mimetype": "text/x-python",
   "name": "python",
   "nbconvert_exporter": "python",
   "pygments_lexer": "ipython3",
   "version": "3.10.8"
  }
 },
 "nbformat": 4,
 "nbformat_minor": 5
}
